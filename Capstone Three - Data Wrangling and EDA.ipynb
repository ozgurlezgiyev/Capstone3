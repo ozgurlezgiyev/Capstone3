{
 "cells": [
  {
   "cell_type": "code",
   "execution_count": 1,
   "id": "f39c975f",
   "metadata": {},
   "outputs": [
    {
     "name": "stderr",
     "output_type": "stream",
     "text": [
      "[nltk_data] Downloading package stopwords to\n",
      "[nltk_data]     C:\\Users\\Ozgur\\AppData\\Roaming\\nltk_data...\n",
      "[nltk_data]   Package stopwords is already up-to-date!\n"
     ]
    },
    {
     "data": {
      "text/plain": [
       "True"
      ]
     },
     "execution_count": 1,
     "metadata": {},
     "output_type": "execute_result"
    }
   ],
   "source": [
    "# Import the necessary libraries\n",
    "import collections\n",
    "import matplotlib.pyplot as plt\n",
    "import numpy as np\n",
    "import pandas as pd\n",
    "import seaborn as sns\n",
    "import spacy\n",
    "from itertools import groupby\n",
    "from sklearn.svm import SVC\n",
    "from sklearn.model_selection import train_test_split, cross_val_score\n",
    "from sklearn.feature_extraction.text import TfidfVectorizer\n",
    "from sklearn.linear_model import LogisticRegression\n",
    "from sklearn.ensemble import RandomForestClassifier\n",
    "from sklearn.metrics import confusion_matrix, ConfusionMatrixDisplay, accuracy_score, f1_score, classification_report, roc_auc_score\n",
    "from sklearn.neural_network import MLPClassifier\n",
    "from sklearn.tree import DecisionTreeClassifier\n",
    "from sklearn import metrics \n",
    "from sklearn.metrics import r2_score, mean_squared_error, mean_absolute_error\n",
    "import spacy\n",
    "from sklearn.model_selection import train_test_split\n",
    "import nltk\n",
    "import string\n",
    "from nltk.stem.lancaster import LancasterStemmer\n",
    "from collections import Counter\n",
    "nltk.download('stopwords')"
   ]
  },
  {
   "cell_type": "code",
   "execution_count": 2,
   "id": "6a4eae2c",
   "metadata": {},
   "outputs": [],
   "source": [
    "# Read in the train, test, and sample submission data from the 'data' directory\n",
    "train = pd.read_csv('data/train.csv')\n",
    "test = pd.read_csv('data/test.csv')\n",
    "sample = pd.read_csv('data/sample_submission.csv')"
   ]
  },
  {
   "cell_type": "code",
   "execution_count": 3,
   "id": "182a07cc",
   "metadata": {},
   "outputs": [],
   "source": [
    "# Select all columns from the third column onwards in the train DataFrame\n",
    "x=train.iloc[:,2:].sum()\n",
    "rowsums=train.iloc[:,2:].sum(axis=1)\n",
    "\n",
    "# Add a new column to the train DataFrame called 'nontoxic' that contains a boolean value indicating\n",
    "# whether or not the comment is toxic\n",
    "train['nontoxic']=(rowsums==0)"
   ]
  },
  {
   "cell_type": "code",
   "execution_count": 4,
   "id": "12a9844f",
   "metadata": {},
   "outputs": [
    {
     "data": {
      "text/html": [
       "<div>\n",
       "<style scoped>\n",
       "    .dataframe tbody tr th:only-of-type {\n",
       "        vertical-align: middle;\n",
       "    }\n",
       "\n",
       "    .dataframe tbody tr th {\n",
       "        vertical-align: top;\n",
       "    }\n",
       "\n",
       "    .dataframe thead th {\n",
       "        text-align: right;\n",
       "    }\n",
       "</style>\n",
       "<table border=\"1\" class=\"dataframe\">\n",
       "  <thead>\n",
       "    <tr style=\"text-align: right;\">\n",
       "      <th></th>\n",
       "      <th>id</th>\n",
       "      <th>comment_text</th>\n",
       "      <th>toxic</th>\n",
       "      <th>severe_toxic</th>\n",
       "      <th>obscene</th>\n",
       "      <th>threat</th>\n",
       "      <th>insult</th>\n",
       "      <th>identity_hate</th>\n",
       "      <th>nontoxic</th>\n",
       "      <th>istoxic</th>\n",
       "    </tr>\n",
       "  </thead>\n",
       "  <tbody>\n",
       "    <tr>\n",
       "      <th>0</th>\n",
       "      <td>0000997932d777bf</td>\n",
       "      <td>Explanation\\nWhy the edits made under my usern...</td>\n",
       "      <td>0</td>\n",
       "      <td>0</td>\n",
       "      <td>0</td>\n",
       "      <td>0</td>\n",
       "      <td>0</td>\n",
       "      <td>0</td>\n",
       "      <td>True</td>\n",
       "      <td>False</td>\n",
       "    </tr>\n",
       "    <tr>\n",
       "      <th>1</th>\n",
       "      <td>000103f0d9cfb60f</td>\n",
       "      <td>D'aww! He matches this background colour I'm s...</td>\n",
       "      <td>0</td>\n",
       "      <td>0</td>\n",
       "      <td>0</td>\n",
       "      <td>0</td>\n",
       "      <td>0</td>\n",
       "      <td>0</td>\n",
       "      <td>True</td>\n",
       "      <td>False</td>\n",
       "    </tr>\n",
       "    <tr>\n",
       "      <th>2</th>\n",
       "      <td>000113f07ec002fd</td>\n",
       "      <td>Hey man, I'm really not trying to edit war. It...</td>\n",
       "      <td>0</td>\n",
       "      <td>0</td>\n",
       "      <td>0</td>\n",
       "      <td>0</td>\n",
       "      <td>0</td>\n",
       "      <td>0</td>\n",
       "      <td>True</td>\n",
       "      <td>False</td>\n",
       "    </tr>\n",
       "    <tr>\n",
       "      <th>3</th>\n",
       "      <td>0001b41b1c6bb37e</td>\n",
       "      <td>\"\\nMore\\nI can't make any real suggestions on ...</td>\n",
       "      <td>0</td>\n",
       "      <td>0</td>\n",
       "      <td>0</td>\n",
       "      <td>0</td>\n",
       "      <td>0</td>\n",
       "      <td>0</td>\n",
       "      <td>True</td>\n",
       "      <td>False</td>\n",
       "    </tr>\n",
       "    <tr>\n",
       "      <th>4</th>\n",
       "      <td>0001d958c54c6e35</td>\n",
       "      <td>You, sir, are my hero. Any chance you remember...</td>\n",
       "      <td>0</td>\n",
       "      <td>0</td>\n",
       "      <td>0</td>\n",
       "      <td>0</td>\n",
       "      <td>0</td>\n",
       "      <td>0</td>\n",
       "      <td>True</td>\n",
       "      <td>False</td>\n",
       "    </tr>\n",
       "  </tbody>\n",
       "</table>\n",
       "</div>"
      ],
      "text/plain": [
       "                 id                                       comment_text  toxic  \\\n",
       "0  0000997932d777bf  Explanation\\nWhy the edits made under my usern...      0   \n",
       "1  000103f0d9cfb60f  D'aww! He matches this background colour I'm s...      0   \n",
       "2  000113f07ec002fd  Hey man, I'm really not trying to edit war. It...      0   \n",
       "3  0001b41b1c6bb37e  \"\\nMore\\nI can't make any real suggestions on ...      0   \n",
       "4  0001d958c54c6e35  You, sir, are my hero. Any chance you remember...      0   \n",
       "\n",
       "   severe_toxic  obscene  threat  insult  identity_hate  nontoxic  istoxic  \n",
       "0             0        0       0       0              0      True    False  \n",
       "1             0        0       0       0              0      True    False  \n",
       "2             0        0       0       0              0      True    False  \n",
       "3             0        0       0       0              0      True    False  \n",
       "4             0        0       0       0              0      True    False  "
      ]
     },
     "execution_count": 4,
     "metadata": {},
     "output_type": "execute_result"
    }
   ],
   "source": [
    "# Create a new column called \"istoxic\" in the \"train\" data frame\n",
    "# if a value in the \"nontoxic\" column is True, the corresponding value in the\n",
    "# \"istoxic\" column will be False, and vice versa\n",
    "train['istoxic'] = ~train['nontoxic']\n",
    "train.head()"
   ]
  },
  {
   "cell_type": "code",
   "execution_count": 5,
   "id": "712ec3e6",
   "metadata": {},
   "outputs": [
    {
     "data": {
      "text/html": [
       "<div>\n",
       "<style scoped>\n",
       "    .dataframe tbody tr th:only-of-type {\n",
       "        vertical-align: middle;\n",
       "    }\n",
       "\n",
       "    .dataframe tbody tr th {\n",
       "        vertical-align: top;\n",
       "    }\n",
       "\n",
       "    .dataframe thead th {\n",
       "        text-align: right;\n",
       "    }\n",
       "</style>\n",
       "<table border=\"1\" class=\"dataframe\">\n",
       "  <thead>\n",
       "    <tr style=\"text-align: right;\">\n",
       "      <th></th>\n",
       "      <th>id</th>\n",
       "      <th>comment_text</th>\n",
       "      <th>toxic</th>\n",
       "      <th>severe_toxic</th>\n",
       "      <th>obscene</th>\n",
       "      <th>threat</th>\n",
       "      <th>insult</th>\n",
       "      <th>identity_hate</th>\n",
       "      <th>nontoxic</th>\n",
       "      <th>istoxic</th>\n",
       "    </tr>\n",
       "  </thead>\n",
       "  <tbody>\n",
       "    <tr>\n",
       "      <th>0</th>\n",
       "      <td>0000997932d777bf</td>\n",
       "      <td>Explanation\\nWhy the edits made under my usern...</td>\n",
       "      <td>0</td>\n",
       "      <td>0</td>\n",
       "      <td>0</td>\n",
       "      <td>0</td>\n",
       "      <td>0</td>\n",
       "      <td>0</td>\n",
       "      <td>True</td>\n",
       "      <td>False</td>\n",
       "    </tr>\n",
       "    <tr>\n",
       "      <th>1</th>\n",
       "      <td>000103f0d9cfb60f</td>\n",
       "      <td>D'aww! He matches this background colour I'm s...</td>\n",
       "      <td>0</td>\n",
       "      <td>0</td>\n",
       "      <td>0</td>\n",
       "      <td>0</td>\n",
       "      <td>0</td>\n",
       "      <td>0</td>\n",
       "      <td>True</td>\n",
       "      <td>False</td>\n",
       "    </tr>\n",
       "    <tr>\n",
       "      <th>2</th>\n",
       "      <td>000113f07ec002fd</td>\n",
       "      <td>Hey man, I'm really not trying to edit war. It...</td>\n",
       "      <td>0</td>\n",
       "      <td>0</td>\n",
       "      <td>0</td>\n",
       "      <td>0</td>\n",
       "      <td>0</td>\n",
       "      <td>0</td>\n",
       "      <td>True</td>\n",
       "      <td>False</td>\n",
       "    </tr>\n",
       "    <tr>\n",
       "      <th>3</th>\n",
       "      <td>0001b41b1c6bb37e</td>\n",
       "      <td>\"\\nMore\\nI can't make any real suggestions on ...</td>\n",
       "      <td>0</td>\n",
       "      <td>0</td>\n",
       "      <td>0</td>\n",
       "      <td>0</td>\n",
       "      <td>0</td>\n",
       "      <td>0</td>\n",
       "      <td>True</td>\n",
       "      <td>False</td>\n",
       "    </tr>\n",
       "    <tr>\n",
       "      <th>4</th>\n",
       "      <td>0001d958c54c6e35</td>\n",
       "      <td>You, sir, are my hero. Any chance you remember...</td>\n",
       "      <td>0</td>\n",
       "      <td>0</td>\n",
       "      <td>0</td>\n",
       "      <td>0</td>\n",
       "      <td>0</td>\n",
       "      <td>0</td>\n",
       "      <td>True</td>\n",
       "      <td>False</td>\n",
       "    </tr>\n",
       "    <tr>\n",
       "      <th>5</th>\n",
       "      <td>00025465d4725e87</td>\n",
       "      <td>\"\\n\\nCongratulations from me as well, use the ...</td>\n",
       "      <td>0</td>\n",
       "      <td>0</td>\n",
       "      <td>0</td>\n",
       "      <td>0</td>\n",
       "      <td>0</td>\n",
       "      <td>0</td>\n",
       "      <td>True</td>\n",
       "      <td>False</td>\n",
       "    </tr>\n",
       "    <tr>\n",
       "      <th>6</th>\n",
       "      <td>0002bcb3da6cb337</td>\n",
       "      <td>COCKSUCKER BEFORE YOU PISS AROUND ON MY WORK</td>\n",
       "      <td>1</td>\n",
       "      <td>1</td>\n",
       "      <td>1</td>\n",
       "      <td>0</td>\n",
       "      <td>1</td>\n",
       "      <td>0</td>\n",
       "      <td>False</td>\n",
       "      <td>True</td>\n",
       "    </tr>\n",
       "    <tr>\n",
       "      <th>7</th>\n",
       "      <td>00031b1e95af7921</td>\n",
       "      <td>Your vandalism to the Matt Shirvington article...</td>\n",
       "      <td>0</td>\n",
       "      <td>0</td>\n",
       "      <td>0</td>\n",
       "      <td>0</td>\n",
       "      <td>0</td>\n",
       "      <td>0</td>\n",
       "      <td>True</td>\n",
       "      <td>False</td>\n",
       "    </tr>\n",
       "    <tr>\n",
       "      <th>8</th>\n",
       "      <td>00037261f536c51d</td>\n",
       "      <td>Sorry if the word 'nonsense' was offensive to ...</td>\n",
       "      <td>0</td>\n",
       "      <td>0</td>\n",
       "      <td>0</td>\n",
       "      <td>0</td>\n",
       "      <td>0</td>\n",
       "      <td>0</td>\n",
       "      <td>True</td>\n",
       "      <td>False</td>\n",
       "    </tr>\n",
       "    <tr>\n",
       "      <th>9</th>\n",
       "      <td>00040093b2687caa</td>\n",
       "      <td>alignment on this subject and which are contra...</td>\n",
       "      <td>0</td>\n",
       "      <td>0</td>\n",
       "      <td>0</td>\n",
       "      <td>0</td>\n",
       "      <td>0</td>\n",
       "      <td>0</td>\n",
       "      <td>True</td>\n",
       "      <td>False</td>\n",
       "    </tr>\n",
       "  </tbody>\n",
       "</table>\n",
       "</div>"
      ],
      "text/plain": [
       "                 id                                       comment_text  toxic  \\\n",
       "0  0000997932d777bf  Explanation\\nWhy the edits made under my usern...      0   \n",
       "1  000103f0d9cfb60f  D'aww! He matches this background colour I'm s...      0   \n",
       "2  000113f07ec002fd  Hey man, I'm really not trying to edit war. It...      0   \n",
       "3  0001b41b1c6bb37e  \"\\nMore\\nI can't make any real suggestions on ...      0   \n",
       "4  0001d958c54c6e35  You, sir, are my hero. Any chance you remember...      0   \n",
       "5  00025465d4725e87  \"\\n\\nCongratulations from me as well, use the ...      0   \n",
       "6  0002bcb3da6cb337       COCKSUCKER BEFORE YOU PISS AROUND ON MY WORK      1   \n",
       "7  00031b1e95af7921  Your vandalism to the Matt Shirvington article...      0   \n",
       "8  00037261f536c51d  Sorry if the word 'nonsense' was offensive to ...      0   \n",
       "9  00040093b2687caa  alignment on this subject and which are contra...      0   \n",
       "\n",
       "   severe_toxic  obscene  threat  insult  identity_hate  nontoxic  istoxic  \n",
       "0             0        0       0       0              0      True    False  \n",
       "1             0        0       0       0              0      True    False  \n",
       "2             0        0       0       0              0      True    False  \n",
       "3             0        0       0       0              0      True    False  \n",
       "4             0        0       0       0              0      True    False  \n",
       "5             0        0       0       0              0      True    False  \n",
       "6             1        1       0       1              0     False     True  \n",
       "7             0        0       0       0              0      True    False  \n",
       "8             0        0       0       0              0      True    False  \n",
       "9             0        0       0       0              0      True    False  "
      ]
     },
     "execution_count": 5,
     "metadata": {},
     "output_type": "execute_result"
    }
   ],
   "source": [
    "# Display the first 10 rows of the \"train\" data frame using the head() method\n",
    "train.head(10)"
   ]
  },
  {
   "cell_type": "code",
   "execution_count": 6,
   "id": "5574751c",
   "metadata": {},
   "outputs": [
    {
     "data": {
      "text/html": [
       "<div>\n",
       "<style scoped>\n",
       "    .dataframe tbody tr th:only-of-type {\n",
       "        vertical-align: middle;\n",
       "    }\n",
       "\n",
       "    .dataframe tbody tr th {\n",
       "        vertical-align: top;\n",
       "    }\n",
       "\n",
       "    .dataframe thead th {\n",
       "        text-align: right;\n",
       "    }\n",
       "</style>\n",
       "<table border=\"1\" class=\"dataframe\">\n",
       "  <thead>\n",
       "    <tr style=\"text-align: right;\">\n",
       "      <th></th>\n",
       "      <th>id</th>\n",
       "      <th>comment_text</th>\n",
       "      <th>istoxic</th>\n",
       "    </tr>\n",
       "  </thead>\n",
       "  <tbody>\n",
       "    <tr>\n",
       "      <th>0</th>\n",
       "      <td>0000997932d777bf</td>\n",
       "      <td>Explanation\\nWhy the edits made under my usern...</td>\n",
       "      <td>False</td>\n",
       "    </tr>\n",
       "    <tr>\n",
       "      <th>1</th>\n",
       "      <td>000103f0d9cfb60f</td>\n",
       "      <td>D'aww! He matches this background colour I'm s...</td>\n",
       "      <td>False</td>\n",
       "    </tr>\n",
       "    <tr>\n",
       "      <th>2</th>\n",
       "      <td>000113f07ec002fd</td>\n",
       "      <td>Hey man, I'm really not trying to edit war. It...</td>\n",
       "      <td>False</td>\n",
       "    </tr>\n",
       "    <tr>\n",
       "      <th>3</th>\n",
       "      <td>0001b41b1c6bb37e</td>\n",
       "      <td>\"\\nMore\\nI can't make any real suggestions on ...</td>\n",
       "      <td>False</td>\n",
       "    </tr>\n",
       "    <tr>\n",
       "      <th>4</th>\n",
       "      <td>0001d958c54c6e35</td>\n",
       "      <td>You, sir, are my hero. Any chance you remember...</td>\n",
       "      <td>False</td>\n",
       "    </tr>\n",
       "    <tr>\n",
       "      <th>5</th>\n",
       "      <td>00025465d4725e87</td>\n",
       "      <td>\"\\n\\nCongratulations from me as well, use the ...</td>\n",
       "      <td>False</td>\n",
       "    </tr>\n",
       "    <tr>\n",
       "      <th>6</th>\n",
       "      <td>0002bcb3da6cb337</td>\n",
       "      <td>COCKSUCKER BEFORE YOU PISS AROUND ON MY WORK</td>\n",
       "      <td>True</td>\n",
       "    </tr>\n",
       "    <tr>\n",
       "      <th>7</th>\n",
       "      <td>00031b1e95af7921</td>\n",
       "      <td>Your vandalism to the Matt Shirvington article...</td>\n",
       "      <td>False</td>\n",
       "    </tr>\n",
       "    <tr>\n",
       "      <th>8</th>\n",
       "      <td>00037261f536c51d</td>\n",
       "      <td>Sorry if the word 'nonsense' was offensive to ...</td>\n",
       "      <td>False</td>\n",
       "    </tr>\n",
       "    <tr>\n",
       "      <th>9</th>\n",
       "      <td>00040093b2687caa</td>\n",
       "      <td>alignment on this subject and which are contra...</td>\n",
       "      <td>False</td>\n",
       "    </tr>\n",
       "  </tbody>\n",
       "</table>\n",
       "</div>"
      ],
      "text/plain": [
       "                 id                                       comment_text  \\\n",
       "0  0000997932d777bf  Explanation\\nWhy the edits made under my usern...   \n",
       "1  000103f0d9cfb60f  D'aww! He matches this background colour I'm s...   \n",
       "2  000113f07ec002fd  Hey man, I'm really not trying to edit war. It...   \n",
       "3  0001b41b1c6bb37e  \"\\nMore\\nI can't make any real suggestions on ...   \n",
       "4  0001d958c54c6e35  You, sir, are my hero. Any chance you remember...   \n",
       "5  00025465d4725e87  \"\\n\\nCongratulations from me as well, use the ...   \n",
       "6  0002bcb3da6cb337       COCKSUCKER BEFORE YOU PISS AROUND ON MY WORK   \n",
       "7  00031b1e95af7921  Your vandalism to the Matt Shirvington article...   \n",
       "8  00037261f536c51d  Sorry if the word 'nonsense' was offensive to ...   \n",
       "9  00040093b2687caa  alignment on this subject and which are contra...   \n",
       "\n",
       "   istoxic  \n",
       "0    False  \n",
       "1    False  \n",
       "2    False  \n",
       "3    False  \n",
       "4    False  \n",
       "5    False  \n",
       "6     True  \n",
       "7    False  \n",
       "8    False  \n",
       "9    False  "
      ]
     },
     "execution_count": 6,
     "metadata": {},
     "output_type": "execute_result"
    }
   ],
   "source": [
    "# From now on data frame called \"train\" will contain only \n",
    "# the \"id\", \"comment_text\", and \"istoxic\" columns from the original \"train\" data frame\n",
    "train = train[['id', 'comment_text', 'istoxic']]\n",
    "train.head(10)"
   ]
  },
  {
   "cell_type": "markdown",
   "id": "85ab6531",
   "metadata": {},
   "source": [
    "## EDA"
   ]
  },
  {
   "cell_type": "code",
   "execution_count": 7,
   "id": "6fcd2a6f",
   "metadata": {},
   "outputs": [],
   "source": [
    "#Transforming all the words to lower case\n",
    "toxic_comment = train[train['istoxic'] == 1]['comment_text'].str.lower()\n",
    "nontoxic_comment = train[train['istoxic'] == 0]['comment_text'].str.lower()"
   ]
  },
  {
   "cell_type": "code",
   "execution_count": 8,
   "id": "3c36a549",
   "metadata": {},
   "outputs": [],
   "source": [
    "#Transforming the comments to a list\n",
    "toxic_comment = toxic_comment.values.tolist()\n",
    "nontoxic_comment = nontoxic_comment.values.tolist()"
   ]
  },
  {
   "cell_type": "code",
   "execution_count": 9,
   "id": "bff2d3c6",
   "metadata": {},
   "outputs": [],
   "source": [
    "#Tokenizing the words\n",
    "toxic_comment_break = [nltk.tokenize.wordpunct_tokenize(text) for text in toxic_comment]\n",
    "nontoxic_comment_break = [nltk.tokenize.wordpunct_tokenize(text) for text in nontoxic_comment]"
   ]
  },
  {
   "cell_type": "code",
   "execution_count": 10,
   "id": "96a08b95",
   "metadata": {},
   "outputs": [],
   "source": [
    "#Deleting common English words\n",
    "stopwords = nltk.corpus.stopwords.words('english')"
   ]
  },
  {
   "cell_type": "code",
   "execution_count": 11,
   "id": "d23658df",
   "metadata": {},
   "outputs": [],
   "source": [
    "#Defining a function to delete repeated characters in words\n",
    "def clear_multiple_char(comment):        \n",
    "    ti = []\n",
    "    for words in comment:\n",
    "        t = [''.join([\"\".join(i) for i, _ in groupby(word)]) if len(word)>10 else word for word in words]\n",
    "        ti.append(t)\n",
    "    return ti"
   ]
  },
  {
   "cell_type": "code",
   "execution_count": 12,
   "id": "831da58b",
   "metadata": {},
   "outputs": [],
   "source": [
    "toxic_comment_break = clear_multiple_char(toxic_comment_break)\n",
    "nontoxic_comment_break = clear_multiple_char(nontoxic_comment_break)"
   ]
  },
  {
   "cell_type": "code",
   "execution_count": 13,
   "id": "ce0e08b9",
   "metadata": {},
   "outputs": [],
   "source": [
    "#Eliminating punctuations and numbers\n",
    "stemmer = LancasterStemmer()\n",
    "punctuation = string.punctuation # '!\"#$%&\\'()*+,-./:;<=>?@[\\\\]^_`{|}~'\n",
    "\n",
    "# Add numbers\n",
    "punctuation += '0123456789'\n",
    "\n",
    "#Defining the function to eliminate punctuations and numbers\n",
    "def comment_raiz(comment):\n",
    "    text = []\n",
    "    for lista in comment:\n",
    "        valids = [stemmer.stem(word) for word in lista if word not in stopwords and word not in punctuation \n",
    "                  and len(word)>2]\n",
    "        valids_true = [''.join([char for char in word if char not in punctuation]) for word in valids if \n",
    "                       len(''.join([char for char in word if char not in punctuation]))>0]\n",
    "        text.append(valids_true)\n",
    "    return text"
   ]
  },
  {
   "cell_type": "code",
   "execution_count": 14,
   "id": "1497c05f",
   "metadata": {},
   "outputs": [],
   "source": [
    "# Apply the \"comment_raiz\" function on toxic_comment_break and nontoxic_comment_break\n",
    "toxic_comment_clear = comment_raiz(toxic_comment_break)\n",
    "nontoxic_comment_clear = comment_raiz(nontoxic_comment_break)"
   ]
  },
  {
   "cell_type": "code",
   "execution_count": 15,
   "id": "887ed666",
   "metadata": {},
   "outputs": [],
   "source": [
    "#Define the function that counts number of occurance of each word in the comments\n",
    "def counter(comment_clear):\n",
    "    cnt = Counter()\n",
    "    for words in comment_clear:\n",
    "        for word in words:\n",
    "            cnt[word] += 1\n",
    "    return cnt"
   ]
  },
  {
   "cell_type": "code",
   "execution_count": 16,
   "id": "459d0af3",
   "metadata": {},
   "outputs": [],
   "source": [
    "toxic_comment_cnt = counter(toxic_comment_clear)\n",
    "nontoxic_comment_cnt = counter(nontoxic_comment_clear)"
   ]
  },
  {
   "cell_type": "code",
   "execution_count": 17,
   "id": "b8fd2d75",
   "metadata": {},
   "outputs": [],
   "source": [
    "#Define the function that plots 20 most common words\n",
    "def top_twenty(counts, label):\n",
    "    most_common = collections.Counter(counts).most_common(20)\n",
    "    words = [w for w,_ in most_common]\n",
    "    counts = [c for _,c in most_common]\n",
    "    plt.figure(figsize=(20, 10))\n",
    "    ax = sns.barplot(x=words, y=counts)\n",
    "    ax.set_title(f'Label = {label}', fontsize=15)\n",
    "    ax.tick_params(labelsize=15)\n",
    "    ax.set_xticklabels(ax.get_xticklabels(),rotation = 30)"
   ]
  },
  {
   "cell_type": "code",
   "execution_count": 18,
   "id": "8eecfff1",
   "metadata": {},
   "outputs": [
    {
     "data": {
      "image/png": "[encoded data removed]",
      "text/plain": [
       "<Figure size 1440x720 with 1 Axes>"
      ]
     },
     "metadata": {
      "needs_background": "light"
     },
     "output_type": "display_data"
    }
   ],
   "source": [
    "top_twenty(toxic_comment_cnt, label='20 most common words in toxic Comments')"
   ]
  },
  {
   "cell_type": "code",
   "execution_count": 19,
   "id": "ff8eb68b",
   "metadata": {},
   "outputs": [
    {
     "data": {
      "image/png": "[encoded data removed]",
      "text/plain": [
       "<Figure size 1440x720 with 1 Axes>"
      ]
     },
     "metadata": {
      "needs_background": "light"
     },
     "output_type": "display_data"
    }
   ],
   "source": [
    "top_twenty(nontoxic_comment_cnt, label='20 most common words in nontoxic Comments')"
   ]
  },
  {
   "cell_type": "code",
   "execution_count": 20,
   "id": "cd443ef9",
   "metadata": {},
   "outputs": [],
   "source": [
    "#Define the function that plots 20 least common words\n",
    "def least_twenty(counts, label):\n",
    "    most_common = collections.Counter(counts).most_common()[:-21:-1]\n",
    "    words = [w for w,_ in most_common]\n",
    "    counts = [c for _,c in most_common]\n",
    "    plt.figure(figsize=(20, 10))\n",
    "    ax = sns.barplot(x=words, y=counts)\n",
    "    ax.set_title(f'Label = {label}', fontsize=15)\n",
    "    ax.tick_params(labelsize=15)\n",
    "    ax.set_xticklabels(ax.get_xticklabels(),rotation = 30)"
   ]
  },
  {
   "cell_type": "code",
   "execution_count": 21,
   "id": "bfcd3bf0",
   "metadata": {},
   "outputs": [
    {
     "data": {
      "image/png": "[encoded data removed]",
      "text/plain": [
       "<Figure size 1440x720 with 1 Axes>"
      ]
     },
     "metadata": {
      "needs_background": "light"
     },
     "output_type": "display_data"
    }
   ],
   "source": [
    "least_twenty(toxic_comment_cnt, label='20 least common words in toxic Comments')"
   ]
  },
  {
   "cell_type": "code",
   "execution_count": 22,
   "id": "701f9833",
   "metadata": {},
   "outputs": [
    {
     "data": {
      "image/png": "[encoded data removed]",
      "text/plain": [
       "<Figure size 1440x720 with 1 Axes>"
      ]
     },
     "metadata": {
      "needs_background": "light"
     },
     "output_type": "display_data"
    }
   ],
   "source": [
    "least_twenty(nontoxic_comment_cnt, label='20 least common words in nontoxic Comments')"
   ]
  },
  {
   "cell_type": "code",
   "execution_count": 23,
   "id": "a9f0a700",
   "metadata": {},
   "outputs": [
    {
     "data": {
      "image/png": "[encoded data removed]",
      "text/plain": [
       "<Figure size 1440x1440 with 1 Axes>"
      ]
     },
     "metadata": {
      "needs_background": "light"
     },
     "output_type": "display_data"
    }
   ],
   "source": [
    "# Create the figure\n",
    "plt.figure(figsize=(20,20))\n",
    "\n",
    "# Get the data for the first plot\n",
    "label = train[['istoxic']]\n",
    "y = np.zeros(label.shape)\n",
    "for ix in range(train['comment_text'].shape[0]):\n",
    "    l = len(train['comment_text'][ix])\n",
    "    if label['istoxic'].iloc[ix] == 0:\n",
    "        y[ix][0] = l\n",
    "\n",
    "# Create the first plot\n",
    "plt.hist(y, bins=range(1, 8000, 100), label='toxic', color='red', alpha=0.3)\n",
    "\n",
    "# Get the data for the second plot\n",
    "label = train[['istoxic']]\n",
    "y = np.zeros(label.shape)\n",
    "for ix in range(train['comment_text'].shape[0]):\n",
    "    l = len(train['comment_text'][ix])\n",
    "    if label['istoxic'].iloc[ix] == 1:\n",
    "        y[ix][0] = l\n",
    "\n",
    "# Create the second plot\n",
    "plt.hist(y, bins=range(1, 8000, 100), label='nontoxic', color='green', alpha=0.3)\n",
    "\n",
    "# Set the x and y axis limits\n",
    "plt.axis([0, 1200, 0, 40000])\n",
    "\n",
    "# Set the x and y labels\n",
    "plt.xlabel('Length of comments')\n",
    "plt.ylabel('Number of comments')\n",
    "\n",
    "# Add a legend\n",
    "plt.legend()\n",
    "\n",
    "# Add grid lines\n",
    "plt.grid(True)\n",
    "\n",
    "# Show the plot\n",
    "plt.show()"
   ]
  },
  {
   "cell_type": "code",
   "execution_count": 24,
   "id": "94b797cd",
   "metadata": {},
   "outputs": [
    {
     "data": {
      "image/png": "[encoded data removed]",
      "text/plain": [
       "<Figure size 1440x1440 with 1 Axes>"
      ]
     },
     "metadata": {
      "needs_background": "light"
     },
     "output_type": "display_data"
    }
   ],
   "source": [
    "# Create the figure\n",
    "plt.figure(figsize=(20,20))\n",
    "\n",
    "# Get the data for the first plot\n",
    "label = train[['istoxic']]\n",
    "y = np.zeros(label.shape)\n",
    "for ix in range(train['comment_text'].shape[0]):\n",
    "    l = len(train['comment_text'][ix])\n",
    "    if label['istoxic'].iloc[ix] == 0:\n",
    "        y[ix][0] = l\n",
    "\n",
    "# Create the first plot\n",
    "plt.hist(y, bins=range(1, 8000, 100), label='toxic', color='red', density = True, alpha=0.3)\n",
    "\n",
    "# Get the data for the second plot\n",
    "label = train[['istoxic']]\n",
    "y = np.zeros(label.shape)\n",
    "for ix in range(train['comment_text'].shape[0]):\n",
    "    l = len(train['comment_text'][ix])\n",
    "    if label['istoxic'].iloc[ix] == 1:\n",
    "        y[ix][0] = l\n",
    "\n",
    "# Create the second plot\n",
    "plt.hist(y, bins=range(1, 8000, 100), label='nontoxic', color='green', density = True, alpha=0.3)\n",
    "\n",
    "# Set the x and y axis limits\n",
    "plt.axis([0, 1200, 0, 0.005])\n",
    "\n",
    "# Set the x and y labels\n",
    "plt.xlabel('Length of comments')\n",
    "plt.ylabel('Number of comments')\n",
    "\n",
    "# Add a legend\n",
    "plt.legend()\n",
    "\n",
    "# Add grid lines\n",
    "plt.grid(True)\n",
    "\n",
    "# Show the plot\n",
    "plt.show()"
   ]
  },
  {
   "cell_type": "markdown",
   "id": "18ae9ed6",
   "metadata": {},
   "source": [
    "## TfidfVectorizer"
   ]
  },
  {
   "cell_type": "markdown",
   "id": "7d74a361",
   "metadata": {},
   "source": [
    "The vectorizer is initialized with the following parameters:\n",
    "\n",
    "- ngram_range: The range of n-grams to be extracted from the documents. In this case, only unigrams (single words) are extracted.\n",
    "- max_features: The maximum number of features (i.e., unique words) to be extracted from the documents. In this case, only the most frequent 10,000 words will be used.\n",
    "- min_df: The minimum number of documents that a word must appear in to be included in the matrix. In this case, a word must appear in at least 2 documents to be included.\n",
    "- max_df: The maximum proportion of documents that a word can appear in to be included in the matrix. In this case, a word can appear in at most 70% of the documents.\n",
    "- strip_accents: A flag that specifies whether to remove accent marks from the words in the documents. In this case, accent marks are removed.\n",
    "- analyzer: The type of tokens (i.e., words, characters, or subwords) to be extracted from the documents. In this case, only words are extracted.\n",
    "- stop_words: The list of stop words (i.e., common words that are not useful for text analysis) to be removed from the documents. In this case, the default English stop words list is used."
   ]
  },
  {
   "cell_type": "code",
   "execution_count": 25,
   "id": "9f884ef2",
   "metadata": {},
   "outputs": [
    {
     "data": {
      "text/plain": [
       "TfidfVectorizer(max_df=0.99, max_features=10000, min_df=3, stop_words='english',\n",
       "                strip_accents='unicode')"
      ]
     },
     "execution_count": 25,
     "metadata": {},
     "output_type": "execute_result"
    }
   ],
   "source": [
    "# Create a TfidfVectorizer object, which is a tool used to convert\n",
    "# a collection of raw documents into a matrix of numerical values that represent\n",
    "vectorizer = TfidfVectorizer(ngram_range=(1, 1), max_features=10000, min_df=3, max_df=0.99, \n",
    "                             strip_accents='unicode', analyzer='word', stop_words = 'english')\n",
    "vectorizer.fit(train['comment_text'])"
   ]
  },
  {
   "cell_type": "code",
   "execution_count": 26,
   "id": "69a50cc5",
   "metadata": {},
   "outputs": [],
   "source": [
    "X = vectorizer.transform(train['comment_text'])\n",
    "y = train['istoxic']"
   ]
  },
  {
   "cell_type": "code",
   "execution_count": 27,
   "id": "75302085",
   "metadata": {},
   "outputs": [
    {
     "name": "stdout",
     "output_type": "stream",
     "text": [
      "Explanation\n",
      "Why the edits made under my username Hardcore Metallica Fan were reverted? They weren't vandalisms, just closure on some GAs after I voted at New York Dolls FAC. And please don't remove the template from the talk page since I'm retired now.89.205.38.27\n"
     ]
    }
   ],
   "source": [
    "print(train['comment_text'][0])"
   ]
  },
  {
   "cell_type": "code",
   "execution_count": 28,
   "id": "a307f897",
   "metadata": {},
   "outputs": [
    {
     "name": "stderr",
     "output_type": "stream",
     "text": [
      "C:\\ProgramData\\Anaconda3\\lib\\site-packages\\sklearn\\utils\\deprecation.py:87: FutureWarning: Function get_feature_names is deprecated; get_feature_names is deprecated in 1.0 and will be removed in 1.2. Please use get_feature_names_out instead.\n",
      "  warnings.warn(msg, category=FutureWarning)\n"
     ]
    },
    {
     "data": {
      "text/plain": [
       "'hardly'"
      ]
     },
     "execution_count": 28,
     "metadata": {},
     "output_type": "execute_result"
    }
   ],
   "source": [
    "vectorizer.get_feature_names()[4273]"
   ]
  },
  {
   "cell_type": "code",
   "execution_count": 29,
   "id": "03fd9b1f",
   "metadata": {},
   "outputs": [],
   "source": [
    "# Train-test split\n",
    "X_train , X_test , y_train , y_test = train_test_split(X,y,test_size=0.3,random_state=21)"
   ]
  },
  {
   "cell_type": "code",
   "execution_count": 30,
   "id": "9dc29c39",
   "metadata": {},
   "outputs": [
    {
     "name": "stderr",
     "output_type": "stream",
     "text": [
      "C:\\ProgramData\\Anaconda3\\lib\\site-packages\\sklearn\\linear_model\\_logistic.py:814: ConvergenceWarning: lbfgs failed to converge (status=1):\n",
      "STOP: TOTAL NO. of ITERATIONS REACHED LIMIT.\n",
      "\n",
      "Increase the number of iterations (max_iter) or scale the data as shown in:\n",
      "    https://scikit-learn.org/stable/modules/preprocessing.html\n",
      "Please also refer to the documentation for alternative solver options:\n",
      "    https://scikit-learn.org/stable/modules/linear_model.html#logistic-regression\n",
      "  n_iter_i = _check_optimize_result(\n"
     ]
    },
    {
     "data": {
      "text/plain": [
       "LogisticRegression()"
      ]
     },
     "execution_count": 30,
     "metadata": {},
     "output_type": "execute_result"
    }
   ],
   "source": [
    "model = LogisticRegression()\n",
    "\n",
    "model.fit(X_train, y_train)"
   ]
  },
  {
   "cell_type": "code",
   "execution_count": 31,
   "id": "cc90ddbc",
   "metadata": {},
   "outputs": [
    {
     "data": {
      "text/plain": [
       "array([False, False, False, ..., False, False, False])"
      ]
     },
     "execution_count": 31,
     "metadata": {},
     "output_type": "execute_result"
    }
   ],
   "source": [
    "y_pred_test = model.predict(X_test)\n",
    "y_pred_test"
   ]
  },
  {
   "cell_type": "code",
   "execution_count": 32,
   "id": "c90e38a3",
   "metadata": {},
   "outputs": [],
   "source": [
    "y_pred_train = model.predict(X_train)"
   ]
  },
  {
   "cell_type": "code",
   "execution_count": 33,
   "id": "928d3021",
   "metadata": {},
   "outputs": [
    {
     "data": {
      "text/plain": [
       "array([[-0.17858095, -0.72187204, -0.05077082, ...,  0.29690302,\n",
       "        -0.3010188 ,  0.88221749]])"
      ]
     },
     "execution_count": 33,
     "metadata": {},
     "output_type": "execute_result"
    }
   ],
   "source": [
    "model.coef_"
   ]
  },
  {
   "cell_type": "markdown",
   "id": "eb86b152",
   "metadata": {},
   "source": [
    "## Prediction Scores"
   ]
  },
  {
   "cell_type": "code",
   "execution_count": 34,
   "id": "b4195cdd",
   "metadata": {},
   "outputs": [],
   "source": [
    "proba = model.predict_proba(X_test)[:, [1]]"
   ]
  },
  {
   "cell_type": "code",
   "execution_count": 35,
   "id": "17830720",
   "metadata": {},
   "outputs": [
    {
     "data": {
      "text/plain": [
       "0.07756295362285404"
      ]
     },
     "execution_count": 35,
     "metadata": {},
     "output_type": "execute_result"
    }
   ],
   "source": [
    "mean_absolute_error(proba, y_test)"
   ]
  },
  {
   "cell_type": "code",
   "execution_count": 36,
   "id": "47364e1d",
   "metadata": {},
   "outputs": [
    {
     "data": {
      "text/plain": [
       "0.18540513649544918"
      ]
     },
     "execution_count": 36,
     "metadata": {},
     "output_type": "execute_result"
    }
   ],
   "source": [
    "metrics.mean_squared_error(proba, y_test, squared=False)"
   ]
  },
  {
   "cell_type": "code",
   "execution_count": 37,
   "id": "b2d07cef",
   "metadata": {},
   "outputs": [
    {
     "data": {
      "text/plain": [
       "0.03437506463889614"
      ]
     },
     "execution_count": 37,
     "metadata": {},
     "output_type": "execute_result"
    }
   ],
   "source": [
    "metrics.mean_squared_error(proba, y_test, squared=True)"
   ]
  },
  {
   "cell_type": "code",
   "execution_count": 38,
   "id": "9f497116",
   "metadata": {},
   "outputs": [
    {
     "data": {
      "text/plain": [
       "0.9594893418920492"
      ]
     },
     "execution_count": 38,
     "metadata": {},
     "output_type": "execute_result"
    }
   ],
   "source": [
    "model.score(X_train, y_train)"
   ]
  },
  {
   "cell_type": "code",
   "execution_count": 39,
   "id": "ccd51472",
   "metadata": {},
   "outputs": [
    {
     "data": {
      "text/plain": [
       "0.9594893418920492"
      ]
     },
     "execution_count": 39,
     "metadata": {},
     "output_type": "execute_result"
    }
   ],
   "source": [
    "np.mean(y_pred_train == y_train)"
   ]
  },
  {
   "cell_type": "code",
   "execution_count": 40,
   "id": "2939b429",
   "metadata": {},
   "outputs": [
    {
     "data": {
      "text/plain": [
       "0.9545872326203209"
      ]
     },
     "execution_count": 40,
     "metadata": {},
     "output_type": "execute_result"
    }
   ],
   "source": [
    "model.score(X_test, y_test)"
   ]
  },
  {
   "cell_type": "code",
   "execution_count": 41,
   "id": "6de7759b",
   "metadata": {},
   "outputs": [
    {
     "data": {
      "text/plain": [
       "0.9545872326203209"
      ]
     },
     "execution_count": 41,
     "metadata": {},
     "output_type": "execute_result"
    }
   ],
   "source": [
    "np.mean(y_pred_test == y_test)"
   ]
  },
  {
   "cell_type": "code",
   "execution_count": 42,
   "id": "88b1720e",
   "metadata": {},
   "outputs": [],
   "source": [
    "test['istoxic'] = 0"
   ]
  },
  {
   "cell_type": "code",
   "execution_count": 43,
   "id": "491d6186",
   "metadata": {},
   "outputs": [],
   "source": [
    "# Create a TfidfVectorizer object, which is a tool used to convert\n",
    "# a collection of raw documents into a matrix of numerical values that represent\n",
    "vectorizer = TfidfVectorizer(ngram_range=(1, 1), max_features=10000, min_df=2, max_df=0.7, \n",
    "                             strip_accents='unicode', analyzer='word', stop_words = 'english')\n",
    "vectorizer.fit(test['comment_text'])\n",
    "\n",
    "X = vectorizer.transform(test['comment_text'])\n",
    "y = test['istoxic']\n"
   ]
  },
  {
   "cell_type": "code",
   "execution_count": 44,
   "id": "16bf9253",
   "metadata": {},
   "outputs": [],
   "source": [
    "y_pred1 = model.predict(X)"
   ]
  },
  {
   "cell_type": "code",
   "execution_count": 45,
   "id": "bd7bcee0",
   "metadata": {},
   "outputs": [],
   "source": [
    "test['istoxic'] = y_pred1"
   ]
  },
  {
   "cell_type": "code",
   "execution_count": 46,
   "id": "1f05ab10",
   "metadata": {},
   "outputs": [
    {
     "data": {
      "text/html": [
       "<div>\n",
       "<style scoped>\n",
       "    .dataframe tbody tr th:only-of-type {\n",
       "        vertical-align: middle;\n",
       "    }\n",
       "\n",
       "    .dataframe tbody tr th {\n",
       "        vertical-align: top;\n",
       "    }\n",
       "\n",
       "    .dataframe thead th {\n",
       "        text-align: right;\n",
       "    }\n",
       "</style>\n",
       "<table border=\"1\" class=\"dataframe\">\n",
       "  <thead>\n",
       "    <tr style=\"text-align: right;\">\n",
       "      <th></th>\n",
       "      <th>id</th>\n",
       "      <th>comment_text</th>\n",
       "      <th>istoxic</th>\n",
       "    </tr>\n",
       "  </thead>\n",
       "  <tbody>\n",
       "    <tr>\n",
       "      <th>0</th>\n",
       "      <td>00001cee341fdb12</td>\n",
       "      <td>Yo bitch Ja Rule is more succesful then you'll...</td>\n",
       "      <td>False</td>\n",
       "    </tr>\n",
       "    <tr>\n",
       "      <th>1</th>\n",
       "      <td>0000247867823ef7</td>\n",
       "      <td>== From RfC == \\n\\n The title is fine as it is...</td>\n",
       "      <td>False</td>\n",
       "    </tr>\n",
       "    <tr>\n",
       "      <th>2</th>\n",
       "      <td>00013b17ad220c46</td>\n",
       "      <td>\" \\n\\n == Sources == \\n\\n * Zawe Ashton on Lap...</td>\n",
       "      <td>False</td>\n",
       "    </tr>\n",
       "    <tr>\n",
       "      <th>3</th>\n",
       "      <td>00017563c3f7919a</td>\n",
       "      <td>:If you have a look back at the source, the in...</td>\n",
       "      <td>False</td>\n",
       "    </tr>\n",
       "    <tr>\n",
       "      <th>4</th>\n",
       "      <td>00017695ad8997eb</td>\n",
       "      <td>I don't anonymously edit articles at all.</td>\n",
       "      <td>False</td>\n",
       "    </tr>\n",
       "    <tr>\n",
       "      <th>5</th>\n",
       "      <td>0001ea8717f6de06</td>\n",
       "      <td>Thank you for understanding. I think very high...</td>\n",
       "      <td>False</td>\n",
       "    </tr>\n",
       "    <tr>\n",
       "      <th>6</th>\n",
       "      <td>00024115d4cbde0f</td>\n",
       "      <td>Please do not add nonsense to Wikipedia. Such ...</td>\n",
       "      <td>False</td>\n",
       "    </tr>\n",
       "    <tr>\n",
       "      <th>7</th>\n",
       "      <td>000247e83dcc1211</td>\n",
       "      <td>:Dear god this site is horrible.</td>\n",
       "      <td>False</td>\n",
       "    </tr>\n",
       "    <tr>\n",
       "      <th>8</th>\n",
       "      <td>00025358d4737918</td>\n",
       "      <td>\" \\n Only a fool can believe in such numbers. ...</td>\n",
       "      <td>False</td>\n",
       "    </tr>\n",
       "    <tr>\n",
       "      <th>9</th>\n",
       "      <td>00026d1092fe71cc</td>\n",
       "      <td>== Double Redirects == \\n\\n When fixing double...</td>\n",
       "      <td>False</td>\n",
       "    </tr>\n",
       "  </tbody>\n",
       "</table>\n",
       "</div>"
      ],
      "text/plain": [
       "                 id                                       comment_text  \\\n",
       "0  00001cee341fdb12  Yo bitch Ja Rule is more succesful then you'll...   \n",
       "1  0000247867823ef7  == From RfC == \\n\\n The title is fine as it is...   \n",
       "2  00013b17ad220c46  \" \\n\\n == Sources == \\n\\n * Zawe Ashton on Lap...   \n",
       "3  00017563c3f7919a  :If you have a look back at the source, the in...   \n",
       "4  00017695ad8997eb          I don't anonymously edit articles at all.   \n",
       "5  0001ea8717f6de06  Thank you for understanding. I think very high...   \n",
       "6  00024115d4cbde0f  Please do not add nonsense to Wikipedia. Such ...   \n",
       "7  000247e83dcc1211                   :Dear god this site is horrible.   \n",
       "8  00025358d4737918  \" \\n Only a fool can believe in such numbers. ...   \n",
       "9  00026d1092fe71cc  == Double Redirects == \\n\\n When fixing double...   \n",
       "\n",
       "   istoxic  \n",
       "0    False  \n",
       "1    False  \n",
       "2    False  \n",
       "3    False  \n",
       "4    False  \n",
       "5    False  \n",
       "6    False  \n",
       "7    False  \n",
       "8    False  \n",
       "9    False  "
      ]
     },
     "execution_count": 46,
     "metadata": {},
     "output_type": "execute_result"
    }
   ],
   "source": [
    "test.head(10)"
   ]
  },
  {
   "cell_type": "code",
   "execution_count": 47,
   "id": "3c8f890e",
   "metadata": {},
   "outputs": [
    {
     "data": {
      "text/html": [
       "<div>\n",
       "<style scoped>\n",
       "    .dataframe tbody tr th:only-of-type {\n",
       "        vertical-align: middle;\n",
       "    }\n",
       "\n",
       "    .dataframe tbody tr th {\n",
       "        vertical-align: top;\n",
       "    }\n",
       "\n",
       "    .dataframe thead th {\n",
       "        text-align: right;\n",
       "    }\n",
       "</style>\n",
       "<table border=\"1\" class=\"dataframe\">\n",
       "  <thead>\n",
       "    <tr style=\"text-align: right;\">\n",
       "      <th></th>\n",
       "      <th>id</th>\n",
       "      <th>comment_text</th>\n",
       "      <th>istoxic</th>\n",
       "    </tr>\n",
       "  </thead>\n",
       "  <tbody>\n",
       "    <tr>\n",
       "      <th>count</th>\n",
       "      <td>153164</td>\n",
       "      <td>153164</td>\n",
       "      <td>153164</td>\n",
       "    </tr>\n",
       "    <tr>\n",
       "      <th>unique</th>\n",
       "      <td>153164</td>\n",
       "      <td>153164</td>\n",
       "      <td>2</td>\n",
       "    </tr>\n",
       "    <tr>\n",
       "      <th>top</th>\n",
       "      <td>00001cee341fdb12</td>\n",
       "      <td>Yo bitch Ja Rule is more succesful then you'll...</td>\n",
       "      <td>False</td>\n",
       "    </tr>\n",
       "    <tr>\n",
       "      <th>freq</th>\n",
       "      <td>1</td>\n",
       "      <td>1</td>\n",
       "      <td>151843</td>\n",
       "    </tr>\n",
       "  </tbody>\n",
       "</table>\n",
       "</div>"
      ],
      "text/plain": [
       "                      id                                       comment_text  \\\n",
       "count             153164                                             153164   \n",
       "unique            153164                                             153164   \n",
       "top     00001cee341fdb12  Yo bitch Ja Rule is more succesful then you'll...   \n",
       "freq                   1                                                  1   \n",
       "\n",
       "       istoxic  \n",
       "count   153164  \n",
       "unique       2  \n",
       "top      False  \n",
       "freq    151843  "
      ]
     },
     "execution_count": 47,
     "metadata": {},
     "output_type": "execute_result"
    }
   ],
   "source": [
    "test.describe()"
   ]
  },
  {
   "cell_type": "code",
   "execution_count": 48,
   "id": "760a3108",
   "metadata": {},
   "outputs": [
    {
     "data": {
      "text/plain": [
       "89        :Thanks for the comment about Wiki-defendernes...\n",
       "241       \" \\n\\n ===Use of \"\"Nepal Bhasa\"\"=== \\n The ter...\n",
       "521       Kinsey's methods are called into question by s...\n",
       "600       == Nosepicking == \\n\\n  \\n I'm glad you apprec...\n",
       "739       \" \\n\\n == Norepi makes you think better == \\n\\...\n",
       "                                ...                        \n",
       "152444                   REDIRECT Talk:Green to Gold (book)\n",
       "152524    I just wikified what was provided. If the orig...\n",
       "152785    \" \\n\\n calvin mcdonald  born january 16 1998)[...\n",
       "152821    \" \\n ::I don't have a choice.  RL is fucking w...\n",
       "152833    \" \\n\\n BAD IDEA.   CF Alcock published an open...\n",
       "Name: comment_text, Length: 1321, dtype: object"
      ]
     },
     "execution_count": 48,
     "metadata": {},
     "output_type": "execute_result"
    }
   ],
   "source": [
    "test[test['istoxic']==True]['comment_text']"
   ]
  },
  {
   "cell_type": "code",
   "execution_count": null,
   "id": "fa6415ce",
   "metadata": {},
   "outputs": [],
   "source": []
  }
 ],
 "metadata": {
  "kernelspec": {
   "display_name": "Python 3 (ipykernel)",
   "language": "python",
   "name": "python3"
  },
  "language_info": {
   "codemirror_mode": {
    "name": "ipython",
    "version": 3
   },
   "file_extension": ".py",
   "mimetype": "text/x-python",
   "name": "python",
   "nbconvert_exporter": "python",
   "pygments_lexer": "ipython3",
   "version": "3.9.12"
  }
 },
 "nbformat": 4,
 "nbformat_minor": 5
}
